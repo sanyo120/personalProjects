{
  "cells": [
    {
      "cell_type": "markdown",
      "metadata": {
        "id": "view-in-github",
        "colab_type": "text"
      },
      "source": [
        "<a href=\"https://colab.research.google.com/github/sanyo120/personalProjects/blob/main/coding_practice_02042025_(1).ipynb\" target=\"_parent\"><img src=\"https://colab.research.google.com/assets/colab-badge.svg\" alt=\"Open In Colab\"/></a>"
      ]
    },
    {
      "cell_type": "code",
      "execution_count": null,
      "id": "f1a5640c-cc6e-4d86-92d4-44afab28d535",
      "metadata": {
        "id": "f1a5640c-cc6e-4d86-92d4-44afab28d535"
      },
      "outputs": [],
      "source": [
        "#Alphabet Rangoli for integer(n)"
      ]
    },
    {
      "cell_type": "code",
      "execution_count": null,
      "id": "d878cc81-0f4f-4f24-9460-ae1f1b9c51d0",
      "metadata": {
        "id": "d878cc81-0f4f-4f24-9460-ae1f1b9c51d0"
      },
      "outputs": [],
      "source": [
        "### I sliced the alphabet string and reversed it.\n",
        "### Next I generated rows of the rangoli pattern\n",
        "### Centered each row and joined them with \"-\"\n",
        "### Lastly I printed top and bottom row excluding the middle row."
      ]
    },
    {
      "cell_type": "code",
      "execution_count": null,
      "id": "6734fbfd-a116-48a3-837f-d3792f919afa",
      "metadata": {
        "id": "6734fbfd-a116-48a3-837f-d3792f919afa",
        "outputId": "0040fcd0-67cb-4a9f-a251-17c530237009"
      },
      "outputs": [
        {
          "name": "stdin",
          "output_type": "stream",
          "text": [
            " 5\n"
          ]
        },
        {
          "name": "stdout",
          "output_type": "stream",
          "text": [
            "--------e--------\n",
            "------e-d-e------\n",
            "----e-d-c-d-e----\n",
            "--e-d-c-b-c-d-e--\n",
            "e-d-c-b-a-b-c-d-e\n",
            "--e-d-c-b-c-d-e--\n",
            "----e-d-c-d-e----\n",
            "------e-d-e------\n",
            "--------e--------\n"
          ]
        }
      ],
      "source": [
        "\n",
        "def print_rangoli(n):\n",
        "    z = \"abcdefghijklmnopqrstuvwxyz\"\n",
        "    b = \"\".join(z[:n][::-1])\n",
        "    c = [b[0:i]+b[0:i+1][::-1] for i in range(n)]\n",
        "    d = [\"-\".join(i).center(n*4-3,\"-\") for i in c]\n",
        "    print (\"\\n\".join(d), \"\\n\".join(d[::-1][1:]), sep =\"\\n\")\n",
        "n = int(input())\n",
        "print_rangoli(n)\n",
        "\n"
      ]
    },
    {
      "cell_type": "code",
      "execution_count": null,
      "id": "f9e37ee4-e032-4a9e-bc1a-c1cb905c1bdb",
      "metadata": {
        "id": "f9e37ee4-e032-4a9e-bc1a-c1cb905c1bdb"
      },
      "outputs": [],
      "source": [
        "#Calculate total earnings from selling shoes and update inventory accordingly.\n",
        "##The int(n) reads the number of shoes in the shop\n",
        "### shoe_size reads the list of shoe sizes available in the store\n",
        "### I created a counter to keep track of how many shoes are available in the store and read the number of customers\n",
        "### Next I initialized total earnings and then processed each customer's order\n",
        "### Next I checked if the shoe are available, if available sold the shoes and updated inventory\n",
        "### Next I outputed the total earnings and called the function to execute the program"
      ]
    },
    {
      "cell_type": "code",
      "execution_count": null,
      "id": "40f58978-190b-49ea-9942-48865a02e085",
      "metadata": {
        "id": "40f58978-190b-49ea-9942-48865a02e085",
        "outputId": "225796a4-dbe7-47b3-c4dc-0ffdc5a4bbe2"
      },
      "outputs": [
        {
          "name": "stdin",
          "output_type": "stream",
          "text": [
            " 10\n",
            " 2 3 4 5 6 8 7 6 5 18\n",
            " 6\n",
            " 6 55\n",
            " 6 45\n",
            " 6 55\n",
            " 4 40\n",
            " 18 60\n",
            " 10 50\n"
          ]
        },
        {
          "name": "stdout",
          "output_type": "stream",
          "text": [
            "200\n"
          ]
        }
      ],
      "source": [
        "from collections import Counter\n",
        "def calculate_earnings():\n",
        "    n=int(input())\n",
        "    shoe_sizes=list(map(int, input().split()))\n",
        "    shoe_inventory = Counter(shoe_sizes)\n",
        "    m=int(input())\n",
        "    total_earnings = 0\n",
        "    for _ in range(m):\n",
        "        size,price = list(map(int, input().split()))\n",
        "        if shoe_inventory[size]>0:\n",
        "            total_earnings+=price\n",
        "            shoe_inventory[size]-=1\n",
        "    print (total_earnings)\n",
        "calculate_earnings()"
      ]
    },
    {
      "cell_type": "code",
      "execution_count": null,
      "id": "d5478c7d-f8af-486d-9c8a-6cb9da492aeb",
      "metadata": {
        "id": "d5478c7d-f8af-486d-9c8a-6cb9da492aeb"
      },
      "outputs": [],
      "source": []
    }
  ],
  "metadata": {
    "kernelspec": {
      "display_name": "Python 3 (ipykernel)",
      "language": "python",
      "name": "python3"
    },
    "language_info": {
      "codemirror_mode": {
        "name": "ipython",
        "version": 3
      },
      "file_extension": ".py",
      "mimetype": "text/x-python",
      "name": "python",
      "nbconvert_exporter": "python",
      "pygments_lexer": "ipython3",
      "version": "3.12.4"
    },
    "colab": {
      "provenance": [],
      "include_colab_link": true
    }
  },
  "nbformat": 4,
  "nbformat_minor": 5
}